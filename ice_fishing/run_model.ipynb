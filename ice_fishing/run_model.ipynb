{
 "cells": [
  {
   "cell_type": "code",
   "execution_count": null,
   "metadata": {},
   "outputs": [],
   "source": [
    "import numpy as np\n",
    "%load_ext autoreload\n",
    "%autoreload 2"
   ]
  },
  {
   "cell_type": "code",
   "execution_count": null,
   "metadata": {},
   "outputs": [],
   "source": [
    "import mesa\n",
    "from ice_fishing_m1.model import IceFishingModel"
   ]
  },
  {
   "cell_type": "code",
   "execution_count": null,
   "metadata": {},
   "outputs": [],
   "source": [
    "m1 = IceFishingModel()"
   ]
  },
  {
   "cell_type": "code",
   "execution_count": null,
   "metadata": {},
   "outputs": [],
   "source": [
    "m1.run_model(step_count=1000)"
   ]
  },
  {
   "cell_type": "code",
   "execution_count": null,
   "metadata": {},
   "outputs": [],
   "source": []
  },
  {
   "cell_type": "markdown",
   "metadata": {},
   "source": [
    "### Check the data"
   ]
  },
  {
   "cell_type": "code",
   "execution_count": null,
   "metadata": {},
   "outputs": [],
   "source": [
    "results = m1.datacollector.get_model_vars_dataframe()"
   ]
  },
  {
   "cell_type": "code",
   "execution_count": null,
   "metadata": {},
   "outputs": [],
   "source": [
    "results"
   ]
  },
  {
   "cell_type": "code",
   "execution_count": null,
   "metadata": {},
   "outputs": [],
   "source": []
  },
  {
   "cell_type": "markdown",
   "source": [
    "## Batch run three environments"
   ],
   "metadata": {
    "collapsed": false
   }
  },
  {
   "cell_type": "code",
   "execution_count": null,
   "outputs": [],
   "source": [
    "%%time\n",
    "from ice_fishing_m1.model import IceFishingModel\n",
    "params = {\"width\": 30, \"height\": 30, \"fish_patch_n_samples\": (500, 2000, 10_000), \"agent_model\": (\"random\", \"imitator\", \"greedy_bayesian\")}\n",
    "\n",
    "results = mesa.batch_run(\n",
    "    IceFishingModel,\n",
    "    parameters=params,\n",
    "    iterations=100,\n",
    "    max_steps=1000,\n",
    "    number_processes=8,\n",
    "    data_collection_period=1,\n",
    "    display_progress=True,\n",
    ")\n",
    "\n"
   ],
   "metadata": {
    "collapsed": false
   }
  },
  {
   "cell_type": "code",
   "execution_count": null,
   "outputs": [],
   "source": [
    "import pandas as pd\n",
    "import matplotlib.pylab as plt\n",
    "\n",
    "results_df = pd.DataFrame(results)\n",
    "print(results_df.keys())"
   ],
   "metadata": {
    "collapsed": false
   }
  },
  {
   "cell_type": "code",
   "execution_count": null,
   "outputs": [],
   "source": [
    "results_df.boxplot(column='Mean catch ratio', by=['fish_patch_n_samples', 'agent_model'], grid=False, rot=90)\n",
    "plt.xlabel('Source smoothness & agent model')\n",
    "plt.ylabel('Mean catch ration')\n",
    "plt.suptitle(None)\n",
    "plt.title('Catch in 1000 steps')\n",
    "plt.show();"
   ],
   "metadata": {
    "collapsed": false
   }
  },
  {
   "cell_type": "code",
   "execution_count": null,
   "outputs": [],
   "source": [],
   "metadata": {
    "collapsed": false
   }
  },
  {
   "cell_type": "markdown",
   "source": [
    "## Run different resource cluster std and smoothness"
   ],
   "metadata": {
    "collapsed": false
   }
  },
  {
   "cell_type": "code",
   "execution_count": null,
   "outputs": [],
   "source": [
    "%%time\n",
    "import numpy as np\n",
    "from ice_fishing_m1.model import IceFishingModel\n",
    "\n",
    "n_steps = 1000\n",
    "\n",
    "params = {\n",
    "    \"width\": 30,\n",
    "    \"height\": 30,\n",
    "    \"fish_patch_n_samples\": 1000,  # (500, 2000, 10_000),\n",
    "    \"fish_patch_std\": np.linspace(0.2, 1, 3),\n",
    "    \"agent_model\": (\"random\", \"imitator\", \"greedy_bayesian\")\n",
    "}\n",
    "\n",
    "results = mesa.batch_run(\n",
    "    IceFishingModel,\n",
    "    parameters=params,\n",
    "    iterations=100,\n",
    "    max_steps=n_steps,\n",
    "    number_processes=8,\n",
    "    data_collection_period=1,\n",
    "    display_progress=True,\n",
    ")\n",
    "\n"
   ],
   "metadata": {
    "collapsed": false
   }
  },
  {
   "cell_type": "code",
   "execution_count": null,
   "outputs": [],
   "source": [
    "import seaborn as sns\n",
    "import pandas as pd\n",
    "import matplotlib.pylab as plt\n",
    "\n",
    "results_df = pd.DataFrame(results)\n",
    "print(results_df.keys())"
   ],
   "metadata": {
    "collapsed": false
   }
  },
  {
   "cell_type": "code",
   "execution_count": null,
   "outputs": [],
   "source": [
    "# set beautiful sns style\n",
    "sns.set_theme(style=\"white\")\n",
    "\n",
    "sns.lineplot(\n",
    "    data=results_df[results_df['Step'] == n_steps],\n",
    "    x='fish_patch_std', y='Mean catch ratio', hue='agent_model')\n",
    "\n",
    "sns.despine()\n",
    "\n",
    "# add labels\n",
    "plt.xlabel('Resource cluster smoothness')\n",
    "plt.ylabel('Mean catch ration')\n",
    "\n",
    "# legend title\n",
    "plt.legend(title='Agent model')\n",
    "\n",
    "plt.show();"
   ],
   "metadata": {
    "collapsed": false
   }
  },
  {
   "cell_type": "code",
   "execution_count": null,
   "outputs": [],
   "source": [
    "# select the last step\n",
    "results_last_step_df = results_df[results_df['Step'] == 1000]\n",
    "\n",
    "# round patch std to 2 decimals\n",
    "results_last_step_df.loc[:, 'fish_patch_std'] = results_last_step_df['fish_patch_std'].round(2)\n",
    "\n",
    "# average over the iterations\n",
    "results_last_step_df = results_last_step_df.groupby(['fish_patch_std', 'fish_patch_n_samples', 'agent_model']).mean().reset_index()\n",
    "\n",
    "results_last_step_df"
   ],
   "metadata": {
    "collapsed": false
   }
  },
  {
   "cell_type": "code",
   "execution_count": null,
   "outputs": [],
   "source": [
    "# df_random = results_last_step_df[results_last_step_df['agent_model'] == 'random']\n",
    "# pivot results for two models independently\n",
    "\n",
    "heatmap_df = results_last_step_df.pivot(\n",
    "    index='agent_model', columns='fish_patch_std', values='Mean catch ratio')\n",
    "\n",
    "sns.heatmap(heatmap_df, cmap=\"viridis\", vmin=0,#  vmax=500,\n",
    "            cbar_kws={'label': 'Mean catch ratio'})\n",
    "\n",
    "# add title\n",
    "# plt.title('Random agent')\n",
    "\n",
    "plt.show();"
   ],
   "metadata": {
    "collapsed": false
   }
  },
  {
   "cell_type": "code",
   "execution_count": null,
   "outputs": [],
   "source": [],
   "metadata": {
    "collapsed": false
   }
  }
 ],
 "metadata": {
  "kernelspec": {
   "display_name": "Python 3 (ipykernel)",
   "language": "python",
   "name": "python3"
  },
  "language_info": {
   "codemirror_mode": {
    "name": "ipython",
    "version": 3
   },
   "file_extension": ".py",
   "mimetype": "text/x-python",
   "name": "python",
   "nbconvert_exporter": "python",
   "pygments_lexer": "ipython3",
   "version": "3.9.6"
  }
 },
 "nbformat": 4,
 "nbformat_minor": 1
}
